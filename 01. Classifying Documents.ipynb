{
 "cells": [
  {
   "cell_type": "markdown",
   "metadata": {},
   "source": [
    "# Classififying documents"
   ]
  },
  {
   "cell_type": "markdown",
   "metadata": {},
   "source": [
    "In this recipe, we will learn how to write build a Naive Bayes classifier that can be used to classify documents. For this exercise, we will make use of rich site summary (RSS) feeds to classify documents. \n",
    "\n",
    "The list of categories are known ahead of the time, which is important for the classification task."
   ]
  },
  {
   "cell_type": "code",
   "execution_count": 13,
   "metadata": {},
   "outputs": [
    {
     "name": "stdout",
     "output_type": "stream",
     "text": [
      "Requirement already satisfied: feedparser in /home/dacy/.local/lib/python3.6/site-packages (5.2.1)\r\n"
     ]
    }
   ],
   "source": [
    "# install required libraries\n",
    "!pip3 install feedparser --user"
   ]
  },
  {
   "cell_type": "code",
   "execution_count": 14,
   "metadata": {},
   "outputs": [],
   "source": [
    "# import required libraries\n",
    "import nltk\n",
    "import random\n",
    "import feedparser\n",
    "from sklearn.model_selection import train_test_split"
   ]
  },
  {
   "cell_type": "code",
   "execution_count": 15,
   "metadata": {},
   "outputs": [],
   "source": [
    "# we'll use two RSS feeds pointing to Yahoo! sports and which are pre-categorized\n",
    "urls = {\n",
    "    'mlb': 'https://sports.yahoo.com/mlb/rss.xml',\n",
    "    'nfl': 'https://sports.yahoo.com/nfl/rss.xml'\n",
    "}"
   ]
  },
  {
   "cell_type": "code",
   "execution_count": 16,
   "metadata": {},
   "outputs": [],
   "source": [
    "# initialize empty dictionary to keep the list of RSS feeds in memory until the program terminates\n",
    "feedmap = {}"
   ]
  },
  {
   "cell_type": "code",
   "execution_count": 17,
   "metadata": {},
   "outputs": [],
   "source": [
    "# get a list of english stopwords\n",
    "stopwords = nltk.corpus.stopwords.words('english')"
   ]
  },
  {
   "cell_type": "code",
   "execution_count": 18,
   "metadata": {},
   "outputs": [],
   "source": [
    "# define function to create features from words (e.g dictionary where key:word, value:True)\n",
    "def featureExtractor(words):\n",
    "    features = {}\n",
    "    for word in words:\n",
    "        # filter out all english stopwords and create feature dictionary\n",
    "        if word not in stopwords:\n",
    "            features[\"word({})\".format(word)] = True\n",
    "    return features"
   ]
  },
  {
   "cell_type": "code",
   "execution_count": 19,
   "metadata": {},
   "outputs": [],
   "source": [
    "# define an empty list to store all correctly labeled sentences\n",
    "sentences = []"
   ]
  },
  {
   "cell_type": "code",
   "execution_count": 20,
   "metadata": {
    "scrolled": true
   },
   "outputs": [
    {
     "name": "stdout",
     "output_type": "stream",
     "text": [
      "downloading https://sports.yahoo.com/mlb/rss.xml\n",
      "downloading https://sports.yahoo.com/nfl/rss.xml\n"
     ]
    }
   ],
   "source": [
    "# iterate over all dictionary url keys\n",
    "for category in urls:\n",
    "    # download the feed and store the result as the value for feedmap[category]\n",
    "    feedmap[category] = feedparser.parse(urls[category])\n",
    "    \n",
    "    # display the url being downloaded\n",
    "    print(\"downloading {}\".format(urls[category]))\n",
    "    \n",
    "    # iterate over all RSS 'entries'\n",
    "    for entry in feedmap[category]['entries']:\n",
    "        # get 'summary' data from 'entries' list for each feed\n",
    "        data = entry['summary']\n",
    "        # get the list of words from 'summary'\n",
    "        words = data.split()\n",
    "        # store into a list a tuple consisting of url category & all sentence tokens\n",
    "        sentences.append((category, words))"
   ]
  },
  {
   "cell_type": "code",
   "execution_count": 21,
   "metadata": {},
   "outputs": [
    {
     "data": {
      "text/plain": [
       "[('mlb',\n",
       "  ['Mike',\n",
       "   'Trout',\n",
       "   'called',\n",
       "   'this',\n",
       "   'season',\n",
       "   'his',\n",
       "   '\"best',\n",
       "   'year',\n",
       "   'yet,\"',\n",
       "   'but',\n",
       "   'his',\n",
       "   'Angels',\n",
       "   'will',\n",
       "   'miss',\n",
       "   'the',\n",
       "   'playoffs',\n",
       "   'again',\n",
       "   'and',\n",
       "   'he',\n",
       "   'could',\n",
       "   'lose',\n",
       "   'out',\n",
       "   'on',\n",
       "   'another',\n",
       "   'MVP.'])]"
      ]
     },
     "execution_count": 21,
     "metadata": {},
     "output_type": "execute_result"
    }
   ],
   "source": [
    "# check the first occurence format in sentences list\n",
    "sentences[:1]"
   ]
  },
  {
   "cell_type": "code",
   "execution_count": 22,
   "metadata": {},
   "outputs": [
    {
     "data": {
      "text/plain": [
       "93"
      ]
     },
     "execution_count": 22,
     "metadata": {},
     "output_type": "execute_result"
    }
   ],
   "source": [
    "# check number of occurences in sentences list\n",
    "len(sentences)"
   ]
  },
  {
   "cell_type": "code",
   "execution_count": 23,
   "metadata": {},
   "outputs": [],
   "source": [
    "# next, extract all features of sentences and store them into a list\n",
    "featureset = [(featureExtractor(words), category) for category, words in sentences]"
   ]
  },
  {
   "cell_type": "code",
   "execution_count": 24,
   "metadata": {},
   "outputs": [
    {
     "data": {
      "text/plain": [
       "[({'word(Mike)': True,\n",
       "   'word(Trout)': True,\n",
       "   'word(called)': True,\n",
       "   'word(season)': True,\n",
       "   'word(\"best)': True,\n",
       "   'word(year)': True,\n",
       "   'word(yet,\")': True,\n",
       "   'word(Angels)': True,\n",
       "   'word(miss)': True,\n",
       "   'word(playoffs)': True,\n",
       "   'word(could)': True,\n",
       "   'word(lose)': True,\n",
       "   'word(another)': True,\n",
       "   'word(MVP.)': True},\n",
       "  'mlb'),\n",
       " ({'word(And)': True,\n",
       "   'word(one)': True,\n",
       "   'word(belongs)': True,\n",
       "   'word(Marty)': True,\n",
       "   'word(Brennaman.)': True,\n",
       "   'word(With)': True,\n",
       "   'word(fans)': True,\n",
       "   'word(applauding)': True,\n",
       "   'word(every)': True,\n",
       "   'word(mention,)': True,\n",
       "   'word(Hall)': True,\n",
       "   'word(Fame)': True,\n",
       "   'word(broadcaster)': True,\n",
       "   'word(called)': True,\n",
       "   'word(final)': True,\n",
       "   'word(Cincinnati)': True,\n",
       "   'word(Reds)': True,\n",
       "   'word(game)': True,\n",
       "   'word(Thursday,)': True,\n",
       "   'word(ending)': True,\n",
       "   'word(46-year)': True,\n",
       "   'word(career)': True,\n",
       "   \"word(that's)\": True,\n",
       "   'word(featured)': True,\n",
       "   'word(many)': True,\n",
       "   'word(big)': True,\n",
       "   'word(stars)': True,\n",
       "   'word(historic)': True,\n",
       "   'word(moments)': True,\n",
       "   'word(-)': True,\n",
       "   'word(Hank)': True,\n",
       "   'word(Aaron,)': True,\n",
       "   'word(Big)': True,\n",
       "   'word(Red)': True,\n",
       "   'word(Machine,)': True,\n",
       "   'word(Pete)': True,\n",
       "   'word(Rose)': True},\n",
       "  'mlb'),\n",
       " ({'word(Charlie)': True,\n",
       "   'word(Morton)': True,\n",
       "   'word(Tampa)': True,\n",
       "   'word(Bay)': True,\n",
       "   'word(pitching)': True,\n",
       "   'word(staff)': True,\n",
       "   'word(made)': True,\n",
       "   'word(quite)': True,\n",
       "   'word(impression)': True,\n",
       "   'word(New)': True,\n",
       "   'word(York)': True,\n",
       "   'word(Yankees)': True,\n",
       "   'word(manager)': True,\n",
       "   'word(Aaron)': True,\n",
       "   'word(Boone.)': True,\n",
       "   'word(bullpen)': True,\n",
       "   'word(combined)': True,\n",
       "   'word(one-hitter)': True,\n",
       "   'word(Rays)': True,\n",
       "   'word(increased)': True,\n",
       "   'word(lead)': True,\n",
       "   'word(AL)': True,\n",
       "   'word(wild-card)': True,\n",
       "   'word(race,)': True,\n",
       "   'word(beating)': True,\n",
       "   'word(4-0)': True,\n",
       "   'word(Wednesday)': True,\n",
       "   'word(night.)': True,\n",
       "   \"word(''This)\": True},\n",
       "  'mlb'),\n",
       " ({'word(Charlie)': True,\n",
       "   'word(Morton)': True,\n",
       "   'word(Tampa)': True,\n",
       "   'word(Bay)': True,\n",
       "   'word(pitching)': True,\n",
       "   'word(staff)': True,\n",
       "   'word(made)': True,\n",
       "   'word(quite)': True,\n",
       "   'word(impression)': True,\n",
       "   'word(New)': True,\n",
       "   'word(York)': True,\n",
       "   'word(Yankees)': True,\n",
       "   'word(manager)': True,\n",
       "   'word(Aaron)': True,\n",
       "   'word(Boone.)': True,\n",
       "   'word(bullpen)': True,\n",
       "   'word(combined)': True,\n",
       "   'word(one-hitter)': True,\n",
       "   'word(Rays)': True,\n",
       "   'word(increased)': True,\n",
       "   'word(lead)': True,\n",
       "   'word(AL)': True,\n",
       "   'word(wild-card)': True,\n",
       "   'word(race,)': True,\n",
       "   'word(beating)': True,\n",
       "   'word(4-0)': True,\n",
       "   'word(Wednesday)': True,\n",
       "   'word(night.)': True,\n",
       "   \"word(''This)\": True},\n",
       "  'mlb'),\n",
       " ({'word(The)': True,\n",
       "   'word(Chicago)': True,\n",
       "   'word(Cubs)': True,\n",
       "   'word(felt)': True,\n",
       "   'word(beginning)': True,\n",
       "   'word(stages)': True,\n",
       "   'word(dynasty)': True,\n",
       "   'word(three)': True,\n",
       "   'word(years)': True,\n",
       "   'word(ago.)': True,\n",
       "   'word(ended)': True,\n",
       "   'word(108-year)': True,\n",
       "   'word(drought)': True,\n",
       "   'word(2016)': True,\n",
       "   'word(winning)': True,\n",
       "   'word(first)': True,\n",
       "   'word(World)': True,\n",
       "   'word(Series)': True,\n",
       "   'word(since)': True,\n",
       "   'word(1908.)': True,\n",
       "   'word(With)': True,\n",
       "   'word(talented)': True,\n",
       "   'word(young)': True,\n",
       "   'word(core)': True,\n",
       "   'word(hitters,)': True,\n",
       "   'word(thought)': True,\n",
       "   'word(would)': True,\n",
       "   'word(multiple)': True,\n",
       "   'word(trips)': True,\n",
       "   'word(Fall)': True,\n",
       "   'word(Classic.)': True},\n",
       "  'mlb')]"
      ]
     },
     "execution_count": 24,
     "metadata": {},
     "output_type": "execute_result"
    }
   ],
   "source": [
    "# check the first 5 occurences in featuresets\n",
    "featureset[:5]"
   ]
  },
  {
   "cell_type": "code",
   "execution_count": 25,
   "metadata": {},
   "outputs": [],
   "source": [
    "# perform suffle data in featureset\n",
    "random.shuffle(featureset)"
   ]
  },
  {
   "cell_type": "code",
   "execution_count": 26,
   "metadata": {},
   "outputs": [],
   "source": [
    "# next, we split into 70% train data and 30% test data\n",
    " train_data,test_data = train_test_split(featureset,train_size = 0.7,random_state=42)"
   ]
  },
  {
   "cell_type": "code",
   "execution_count": 27,
   "metadata": {
    "scrolled": true
   },
   "outputs": [
    {
     "data": {
      "text/plain": [
       "65"
      ]
     },
     "execution_count": 27,
     "metadata": {},
     "output_type": "execute_result"
    }
   ],
   "source": [
    "len(train_data)"
   ]
  },
  {
   "cell_type": "code",
   "execution_count": 28,
   "metadata": {},
   "outputs": [
    {
     "data": {
      "text/plain": [
       "28"
      ]
     },
     "execution_count": 28,
     "metadata": {},
     "output_type": "execute_result"
    }
   ],
   "source": [
    "len(test_data)"
   ]
  },
  {
   "cell_type": "code",
   "execution_count": 29,
   "metadata": {},
   "outputs": [],
   "source": [
    "# next, we create a NaiveBayes classifier and train using train_data\n",
    "classifier = nltk.NaiveBayesClassifier.train(train_data)"
   ]
  },
  {
   "cell_type": "code",
   "execution_count": 30,
   "metadata": {},
   "outputs": [
    {
     "name": "stdout",
     "output_type": "stream",
     "text": [
      "Classifier accuracy:  0.8571428571428571\n"
     ]
    }
   ],
   "source": [
    "# next, check classifier accuracy using the test_data\n",
    "print(\"Classifier accuracy: \",nltk.classify.accuracy(classifier, test_data))"
   ]
  },
  {
   "cell_type": "markdown",
   "metadata": {},
   "source": [
    "Looking at the generated result, we can see that our classifier reached 85% accuracy prediction score."
   ]
  },
  {
   "cell_type": "code",
   "execution_count": 31,
   "metadata": {},
   "outputs": [
    {
     "name": "stdout",
     "output_type": "stream",
     "text": [
      "Most Informative Features\n",
      "           word(Chicago) = True              mlb : nfl    =      3.6 : 1.0\n",
      "                word(He) = True              nfl : mlb    =      3.1 : 1.0\n",
      "         word(Wednesday) = True              mlb : nfl    =      2.9 : 1.0\n",
      "              word(said) = True              nfl : mlb    =      2.4 : 1.0\n",
      "              word(2019) = True              nfl : mlb    =      2.4 : 1.0\n"
     ]
    }
   ],
   "source": [
    "# print the informative features about the data\n",
    "classifier.show_most_informative_features(5)"
   ]
  },
  {
   "cell_type": "code",
   "execution_count": 33,
   "metadata": {},
   "outputs": [
    {
     "name": "stdout",
     "output_type": "stream",
     "text": [
      "nfl -> Giant belief: How Jones handled draft-night drama\n",
      "nfl -> Chiefs' Patrick Mahomes more comfortable with his emotions\n",
      "mlb -> Bruce Irvin set to play for Panthers this week\n",
      "mlb -> Early bye week comes at right time for struggling Jets\n"
     ]
    }
   ],
   "source": [
    "# next, we make predictions on the 'title' attribute data of 4 different sample entries from nfl RSS category\n",
    "for (i, entry) in enumerate(feedmap['nfl']['entries']):\n",
    "    if i < 4:\n",
    "        # get features on 'title' data\n",
    "        features = featureExtractor(entry['title'].split())\n",
    "        # get category name\n",
    "        category = classifier.classify(features)\n",
    "        print('{} -> {}'.format(category, entry['title']))"
   ]
  }
 ],
 "metadata": {
  "kernelspec": {
   "display_name": "Python 3",
   "language": "python",
   "name": "python3"
  },
  "language_info": {
   "codemirror_mode": {
    "name": "ipython",
    "version": 3
   },
   "file_extension": ".py",
   "mimetype": "text/x-python",
   "name": "python",
   "nbconvert_exporter": "python",
   "pygments_lexer": "ipython3",
   "version": "3.6.8"
  }
 },
 "nbformat": 4,
 "nbformat_minor": 2
}
